{
 "cells": [
  {
   "cell_type": "code",
   "execution_count": null,
   "id": "5c35565a",
   "metadata": {},
   "outputs": [],
   "source": [
    "\n",
    "# Importing required libraries\n",
    "!pip install pyspark\n",
    "from pyspark.sql import SparkSession\n",
    "import pandas as pd"
   ]
  },
  {
   "cell_type": "code",
   "execution_count": null,
   "id": "1648198e",
   "metadata": {},
   "outputs": [],
   "source": [
    "# reading file using pandas \n",
    "df=pd.read_excel(\"Sample - Superstore.xls\")\n",
    "\n",
    "# creating spark session\n",
    "spark=SparkSession.builder.appName(\"reading excel\").getOrCreate()\n",
    "\n",
    "# converting pandas dataframe to spark data frame\n",
    "spark_df=spark.createDataFrame(df)\n"
   ]
  },
  {
   "cell_type": "code",
   "execution_count": null,
   "id": "1744e2ac",
   "metadata": {},
   "outputs": [],
   "source": [
    "spark_df.createOrReplaceTempView(\"spark_sql\")"
   ]
  },
  {
   "cell_type": "code",
   "execution_count": null,
   "id": "faed0c61",
   "metadata": {},
   "outputs": [],
   "source": [
    "%sql\n",
    "select segment,sum(Profit) as segment_profit \n",
    "from spark_sql\n",
    " group by segment"
   ]
  },
  {
   "cell_type": "code",
   "execution_count": null,
   "id": "b73a35f4",
   "metadata": {},
   "outputs": [],
   "source": [
    "spark_df.groupBy('segment').sum('Profit').show()"
   ]
  },
  {
   "cell_type": "code",
   "execution_count": null,
   "id": "28352cb6",
   "metadata": {},
   "outputs": [],
   "source": [
    "# Get partitions\n",
    "partitions = spark_df.rdd.getNumPartitions()\n"
   ]
  },
  {
   "cell_type": "code",
   "execution_count": null,
   "id": "d064ffe3",
   "metadata": {},
   "outputs": [],
   "source": [
    "print(partitions)"
   ]
  },
  {
   "cell_type": "code",
   "execution_count": null,
   "id": "805a1f93",
   "metadata": {},
   "outputs": [],
   "source": [
    "# Repartition the Spark DataFrame\n",
    "spark_df = spark_df.repartition(10)\n",
    "print(spark_df)"
   ]
  },
  {
   "cell_type": "code",
   "execution_count": null,
   "id": "ab294de5",
   "metadata": {},
   "outputs": [],
   "source": [
    "print(spark_df.rdd.getNumPartitions())"
   ]
  },
  {
   "cell_type": "code",
   "execution_count": null,
   "id": "1ae1c970",
   "metadata": {},
   "outputs": [],
   "source": [
    "spark_df=spark_df.coalesce(5)"
   ]
  },
  {
   "cell_type": "code",
   "execution_count": null,
   "id": "d5e04c5e",
   "metadata": {},
   "outputs": [],
   "source": []
  },
  {
   "cell_type": "code",
   "execution_count": null,
   "id": "4469ffcd",
   "metadata": {},
   "outputs": [],
   "source": []
  }
 ],
 "metadata": {
  "kernelspec": {
   "display_name": "Python 3 (ipykernel)",
   "language": "python",
   "name": "python3"
  },
  "language_info": {
   "codemirror_mode": {
    "name": "ipython",
    "version": 3
   },
   "file_extension": ".py",
   "mimetype": "text/x-python",
   "name": "python",
   "nbconvert_exporter": "python",
   "pygments_lexer": "ipython3",
   "version": "3.9.12"
  }
 },
 "nbformat": 4,
 "nbformat_minor": 5
}
